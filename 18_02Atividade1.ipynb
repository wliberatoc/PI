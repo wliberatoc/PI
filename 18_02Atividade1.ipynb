{
  "nbformat": 4,
  "nbformat_minor": 0,
  "metadata": {
    "colab": {
      "name": "18/02Atividade1.ipynb",
      "provenance": [],
      "collapsed_sections": [],
      "authorship_tag": "ABX9TyMvY0nwQpw44GncjmbMnH5X",
      "include_colab_link": true
    },
    "kernelspec": {
      "name": "python3",
      "display_name": "Python 3"
    }
  },
  "cells": [
    {
      "cell_type": "markdown",
      "metadata": {
        "id": "view-in-github",
        "colab_type": "text"
      },
      "source": [
        "<a href=\"https://colab.research.google.com/github/wliberatoc/PI/blob/main/18_02Atividade1.ipynb\" target=\"_parent\"><img src=\"https://colab.research.google.com/assets/colab-badge.svg\" alt=\"Open In Colab\"/></a>"
      ]
    },
    {
      "cell_type": "code",
      "metadata": {
        "id": "RmNnIkXNOgGn",
        "outputId": "3babb593-842d-4919-e478-64eb03138f92",
        "colab": {
          "base_uri": "https://localhost:8080/",
          "height": 119
        }
      },
      "source": [
        "import random\n",
        "num = random.randint(0,21)\n",
        "while 1 == 1:\n",
        "  print(\"tente adivinhar qual é o número de 0 a 20?\")\n",
        "  palpite = input(\"digite seu palpite: \")\n",
        "  palpite = int(palpite)\n",
        "  if palpite == num:\n",
        "    print(\"voce acertou!!!\")\n",
        "    break\n",
        "  elif palpite > num:\n",
        "    print(\"seu palpite foi muito alto\")\n",
        "  elif palpite < num:\n",
        "    print(\"seu palpite foi muito baixo\")"
      ],
      "execution_count": null,
      "outputs": [
        {
          "output_type": "stream",
          "text": [
            "tente adivinhar qual é o número de 0 a 20?\n",
            "digite seu palpite: 0\n",
            "seu palpite foi muito baixo\n",
            "tente adivinhar qual é o número de 0 a 20?\n",
            "digite seu palpite: 5\n",
            "voce acertou!!!\n"
          ],
          "name": "stdout"
        }
      ]
    }
  ]
}