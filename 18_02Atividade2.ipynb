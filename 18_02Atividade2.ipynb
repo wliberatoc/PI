{
  "nbformat": 4,
  "nbformat_minor": 0,
  "metadata": {
    "colab": {
      "name": "18/02Atividade2.ipynb",
      "provenance": [],
      "collapsed_sections": [],
      "authorship_tag": "ABX9TyMqaICqmzVwlogoeQDJ39ZO",
      "include_colab_link": true
    },
    "kernelspec": {
      "name": "python3",
      "display_name": "Python 3"
    }
  },
  "cells": [
    {
      "cell_type": "markdown",
      "metadata": {
        "id": "view-in-github",
        "colab_type": "text"
      },
      "source": [
        "<a href=\"https://colab.research.google.com/github/wliberatoc/PI/blob/main/18_02Atividade2.ipynb\" target=\"_parent\"><img src=\"https://colab.research.google.com/assets/colab-badge.svg\" alt=\"Open In Colab\"/></a>"
      ]
    },
    {
      "cell_type": "code",
      "metadata": {
        "id": "LWbj2GkOS9Bg",
        "outputId": "eaf7a130-c81a-4c77-f322-987c0096ce9c",
        "colab": {
          "base_uri": "https://localhost:8080/",
          "height": 68
        }
      },
      "source": [
        "import random\n",
        "\n",
        "opcoes = [\"pedra\",\"papel\", \"tesoura\"]\n",
        "n = random.randint(0,2)\n",
        "print(opcoes[n]) \n",
        "jogada = input(\"digite pedra, papael ou tesoura para jogar: \")\n",
        "if jogada == opcoes[n]:\n",
        "  print(\"empate\")\n",
        "elif jogada == \"pedra\" and opcoes[n] != \"papel\":\n",
        "  print(\"Vitoria\")\n",
        "elif jogada == \"papel\" and opcoes[n] != \"tesoura\":\n",
        "  print(\"Vitoria\")\n",
        "elif jogada == \"tesoura\" and opcoes[n] != \"pedra\":\n",
        "  print(\"Vitoria\")\n",
        "else:\n",
        "  print(\"voce perdeu\")\n",
        "\n"
      ],
      "execution_count": null,
      "outputs": [
        {
          "output_type": "stream",
          "text": [
            "tesoura\n",
            "digite pedra, papael ou tesoura para jogar: pedra\n",
            "Vitoria\n"
          ],
          "name": "stdout"
        }
      ]
    }
  ]
}