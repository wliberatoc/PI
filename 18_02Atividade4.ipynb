{
  "nbformat": 4,
  "nbformat_minor": 0,
  "metadata": {
    "colab": {
      "name": "18/02Atividade4.ipynb",
      "provenance": [],
      "authorship_tag": "ABX9TyMSbePIC0M0qYMaLoFpvGZ6",
      "include_colab_link": true
    },
    "kernelspec": {
      "name": "python3",
      "display_name": "Python 3"
    }
  },
  "cells": [
    {
      "cell_type": "markdown",
      "metadata": {
        "id": "view-in-github",
        "colab_type": "text"
      },
      "source": [
        "<a href=\"https://colab.research.google.com/github/wliberatoc/PI/blob/main/18_02Atividade4.ipynb\" target=\"_parent\"><img src=\"https://colab.research.google.com/assets/colab-badge.svg\" alt=\"Open In Colab\"/></a>"
      ]
    },
    {
      "cell_type": "code",
      "metadata": {
        "id": "oHdEYfmXYWOy",
        "outputId": "1e846378-b6c8-4214-ba66-e6063d27b5e2",
        "colab": {
          "base_uri": "https://localhost:8080/",
          "height": 51
        }
      },
      "source": [
        "import random\n",
        "from random import choice\n",
        "\n",
        "quantidade = int(input(\"Digite a quantidade de caracteres que deseja ter na sua senha: \"))\n",
        "while quantidade < 6:\n",
        "      print(\"O tamanho da senha tem que ser maior que 6\")\n",
        "      quantidade = int(input(\"Digite a quantidade de caracteres que deseja ter na sua senha novamente: \"))\n",
        "def gerador_senha(tamanho):\n",
        "    caracteres = \"0123456789abcdefghijklmnopqrstuwxyzABCDEFGHIJKLMNOPQRSTUVWXYZ@!#$%&*()_+}{`^?;:>/-+.,\"\n",
        "    senha = \"\"\n",
        "    for i in range(tamanho):\n",
        "        senha += choice(caracteres)\n",
        "    return senha\n",
        "\n",
        "senha = gerador_senha(quantidade)      \n",
        "print(\"Sua senha gerada é: {}\".format(senha))"
      ],
      "execution_count": null,
      "outputs": [
        {
          "output_type": "stream",
          "text": [
            "Digite a quantidade de caracteres que deseja ter na sua senha: 15\n",
            "Sua senha gerada é: iMi>l+di%QxIs5&\n"
          ],
          "name": "stdout"
        }
      ]
    }
  ]
}